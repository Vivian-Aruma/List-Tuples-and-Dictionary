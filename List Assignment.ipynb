{
 "cells": [
  {
   "cell_type": "markdown",
   "metadata": {},
   "source": [
    "     Assignment\n",
    "     \n",
    "     \n",
    "1. Create a list, using the append function, add 3 elements to your list.\n",
    "2. Demostrate your understanding of tuples by creating a concatenation.\n",
    "3. Create a mixed key dictionary and access atleast one element using its key.\n",
    "4. Using the '|' operator, create a union of sets.\n",
    "\n"
   ]
  },
  {
   "cell_type": "code",
   "execution_count": 1,
   "metadata": {},
   "outputs": [
    {
     "name": "stdout",
     "output_type": "stream",
     "text": [
      "\n",
      "Number list: \n",
      "[67, 73, 84, 92, 98, 110]\n"
     ]
    }
   ],
   "source": [
    "#creating a list\n",
    "List =[67, 73, 84, 92, 98, 110]\n",
    "print(\"\\nNumber list: \")\n",
    "print(List)"
   ]
  },
  {
   "cell_type": "code",
   "execution_count": 2,
   "metadata": {},
   "outputs": [
    {
     "name": "stdout",
     "output_type": "stream",
     "text": [
      "\n",
      "Number of new list of numbers: \n",
      "[67, 73, 84, 92, 98, 110, 120, 5, 200]\n"
     ]
    }
   ],
   "source": [
    "# appending 3 elements\n",
    "\n",
    "List.append(120)\n",
    "List.append(5)\n",
    "List.append(200)\n",
    "\n",
    "print(\"\\nNumber of new list of numbers: \")\n",
    "print(List)\n"
   ]
  },
  {
   "cell_type": "code",
   "execution_count": null,
   "metadata": {},
   "outputs": [],
   "source": []
  },
  {
   "cell_type": "code",
   "execution_count": null,
   "metadata": {},
   "outputs": [],
   "source": []
  },
  {
   "cell_type": "code",
   "execution_count": 3,
   "metadata": {},
   "outputs": [
    {
     "name": "stdout",
     "output_type": "stream",
     "text": [
      "('Florence', 'Gloria', 'Miracle', 9, 10, 12, 41)\n"
     ]
    }
   ],
   "source": [
    "# tuples\n",
    "\n",
    "tup1 = (\"Florence\", \"Gloria\", \"Miracle\")\n",
    "tup2 = (9, 10, 12, 41)\n",
    "\n",
    "# concatenating tuples\n",
    "print(tup1 + tup2)"
   ]
  },
  {
   "cell_type": "code",
   "execution_count": null,
   "metadata": {},
   "outputs": [],
   "source": []
  },
  {
   "cell_type": "code",
   "execution_count": 10,
   "metadata": {},
   "outputs": [
    {
     "name": "stdout",
     "output_type": "stream",
     "text": [
      "Accessing an element using string key\n",
      "Victoria\n",
      "Accessing an element using integer key\n",
      "cream\n"
     ]
    }
   ],
   "source": [
    "# create a mixed key dictionary\n",
    "Dict = {'country': 'Australia', 'state': 'Victoria', '1': 'candy', '2': 'cream', '3': 'soap'}\n",
    "\n",
    "# accessing an element using key\n",
    "print(\"Accessing an element using string key\")\n",
    "print(Dict['state'])\n",
    "\n",
    "\n",
    "print(\"Accessing an element using integer key\")\n",
    "print(Dict['2'])"
   ]
  },
  {
   "cell_type": "code",
   "execution_count": null,
   "metadata": {},
   "outputs": [],
   "source": []
  },
  {
   "cell_type": "code",
   "execution_count": 22,
   "metadata": {},
   "outputs": [
    {
     "name": "stdout",
     "output_type": "stream",
     "text": [
      "\n",
      "Union using '|' operator\n",
      "{'Toyota', 2019, 2020, 2021, 'Mercedes', 'Avalon'}\n"
     ]
    }
   ],
   "source": [
    "#creating a union using the '|' operator\n",
    "\n",
    "Model = {\"Toyota\", \"Avalon\", \"Mercedes\"}\n",
    "Make = {2019, 2020, 2021}\n",
    "\n",
    "#union using \"|\" operator\n",
    "Car = model|Make\n",
    "\n",
    "print(\"\\nUnion using '|' operator\")\n",
    "print(Car)\n",
    "\n"
   ]
  },
  {
   "cell_type": "code",
   "execution_count": null,
   "metadata": {},
   "outputs": [],
   "source": []
  }
 ],
 "metadata": {
  "kernelspec": {
   "display_name": "Python 3",
   "language": "python",
   "name": "python3"
  },
  "language_info": {
   "codemirror_mode": {
    "name": "ipython",
    "version": 3
   },
   "file_extension": ".py",
   "mimetype": "text/x-python",
   "name": "python",
   "nbconvert_exporter": "python",
   "pygments_lexer": "ipython3",
   "version": "3.8.5"
  }
 },
 "nbformat": 4,
 "nbformat_minor": 4
}
